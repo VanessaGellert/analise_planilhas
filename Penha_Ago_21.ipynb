{
  "nbformat": 4,
  "nbformat_minor": 0,
  "metadata": {
    "colab": {
      "name": "Penha_Ago/21",
      "provenance": [],
      "authorship_tag": "ABX9TyNoCj5sIpx9Ory5rkwllNO3",
      "include_colab_link": true
    },
    "kernelspec": {
      "name": "python3",
      "display_name": "Python 3"
    },
    "language_info": {
      "name": "python"
    }
  },
  "cells": [
    {
      "cell_type": "markdown",
      "metadata": {
        "id": "view-in-github",
        "colab_type": "text"
      },
      "source": [
        "<a href=\"https://colab.research.google.com/github/VanessaGellert/analise_planilhas/blob/main/Penha_Ago_21.ipynb\" target=\"_parent\"><img src=\"https://colab.research.google.com/assets/colab-badge.svg\" alt=\"Open In Colab\"/></a>"
      ]
    },
    {
      "cell_type": "code",
      "metadata": {
        "id": "35OEYKtdz_WP"
      },
      "source": [
        "!pip install gspread"
      ],
      "execution_count": null,
      "outputs": []
    },
    {
      "cell_type": "code",
      "metadata": {
        "id": "5n1CE-yu4yDa"
      },
      "source": [
        "from google.colab import auth"
      ],
      "execution_count": 61,
      "outputs": []
    },
    {
      "cell_type": "code",
      "metadata": {
        "id": "0d8i7J6u5FPR"
      },
      "source": [
        "auth.authenticate_user()"
      ],
      "execution_count": 62,
      "outputs": []
    },
    {
      "cell_type": "code",
      "metadata": {
        "id": "AwquvR4R5Hmi"
      },
      "source": [
        "import gspread"
      ],
      "execution_count": 63,
      "outputs": []
    },
    {
      "cell_type": "code",
      "metadata": {
        "id": "uSCdEoWt5QS2"
      },
      "source": [
        "from oauth2client.client import GoogleCredentials"
      ],
      "execution_count": 64,
      "outputs": []
    },
    {
      "cell_type": "code",
      "metadata": {
        "id": "hV7Rl_915XKK"
      },
      "source": [
        "gc = gspread.authorize(GoogleCredentials.get_application_default())"
      ],
      "execution_count": 65,
      "outputs": []
    },
    {
      "cell_type": "code",
      "metadata": {
        "id": "jItBQqOc5g3O"
      },
      "source": [
        "spreadsheet_Penha = gc.open('teste_colab')"
      ],
      "execution_count": 66,
      "outputs": []
    },
    {
      "cell_type": "code",
      "metadata": {
        "id": "2sZEEbya6Gs9"
      },
      "source": [
        "worksheet_Penha = spreadsheet_Penha.sheet1"
      ],
      "execution_count": 67,
      "outputs": []
    },
    {
      "cell_type": "code",
      "metadata": {
        "id": "biJEJiPV6Niu"
      },
      "source": [
        "import pandas as pd"
      ],
      "execution_count": 68,
      "outputs": []
    },
    {
      "cell_type": "code",
      "metadata": {
        "id": "benlB2jQ6T3C"
      },
      "source": [
        "df_Penha = pd.DataFrame(worksheet_Penha.get_all_records())"
      ],
      "execution_count": 69,
      "outputs": []
    },
    {
      "cell_type": "code",
      "metadata": {
        "id": "Y8hWOXXi7bcn"
      },
      "source": [
        "page = spreadsheet_Penha.sheet1"
      ],
      "execution_count": 70,
      "outputs": []
    },
    {
      "cell_type": "code",
      "metadata": {
        "colab": {
          "base_uri": "https://localhost:8080/"
        },
        "id": "94SPZQJi72yC",
        "outputId": "200ebb46-3e90-453d-d648-9e9bdb3b47db"
      },
      "source": [
        "page.row_values(1)"
      ],
      "execution_count": 71,
      "outputs": [
        {
          "output_type": "execute_result",
          "data": {
            "text/plain": [
              "['DATA ENTRADA',\n",
              " 'TICKET',\n",
              " 'ALUNO',\n",
              " 'TAG',\n",
              " 'ASSUNTO',\n",
              " 'STATUS',\n",
              " 'DATA SAÍDA',\n",
              " 'TEMPO EM DIAS']"
            ]
          },
          "metadata": {},
          "execution_count": 71
        }
      ]
    },
    {
      "cell_type": "code",
      "metadata": {
        "id": "e5zXIiGE8Bdf"
      },
      "source": [
        "import pandas as pd"
      ],
      "execution_count": 72,
      "outputs": []
    },
    {
      "cell_type": "code",
      "metadata": {
        "id": "gDL-b1bu8dJS"
      },
      "source": [
        "Penha = pd.DataFrame(page.get_all_records())"
      ],
      "execution_count": 73,
      "outputs": []
    },
    {
      "cell_type": "code",
      "metadata": {
        "colab": {
          "base_uri": "https://localhost:8080/"
        },
        "id": "7LS3_zAcBS0x",
        "outputId": "4aee4977-6f44-4cad-a1ce-6c370fa6ef5b"
      },
      "source": [
        "Penha.dtypes"
      ],
      "execution_count": 74,
      "outputs": [
        {
          "output_type": "execute_result",
          "data": {
            "text/plain": [
              "DATA ENTRADA     object\n",
              "TICKET            int64\n",
              "ALUNO            object\n",
              "TAG              object\n",
              "ASSUNTO          object\n",
              "STATUS           object\n",
              "DATA SAÍDA       object\n",
              "TEMPO EM DIAS    object\n",
              "dtype: object"
            ]
          },
          "metadata": {},
          "execution_count": 74
        }
      ]
    },
    {
      "cell_type": "code",
      "metadata": {
        "colab": {
          "base_uri": "https://localhost:8080/"
        },
        "id": "0kbRnZZkCmlc",
        "outputId": "0514f368-550d-401c-97f2-73fb3e669a63"
      },
      "source": [
        "Penha.info()"
      ],
      "execution_count": 75,
      "outputs": [
        {
          "output_type": "stream",
          "text": [
            "<class 'pandas.core.frame.DataFrame'>\n",
            "RangeIndex: 107 entries, 0 to 106\n",
            "Data columns (total 8 columns):\n",
            " #   Column         Non-Null Count  Dtype \n",
            "---  ------         --------------  ----- \n",
            " 0   DATA ENTRADA   107 non-null    object\n",
            " 1   TICKET         107 non-null    int64 \n",
            " 2   ALUNO          107 non-null    object\n",
            " 3   TAG            107 non-null    object\n",
            " 4   ASSUNTO        107 non-null    object\n",
            " 5   STATUS         107 non-null    object\n",
            " 6   DATA SAÍDA     107 non-null    object\n",
            " 7   TEMPO EM DIAS  107 non-null    object\n",
            "dtypes: int64(1), object(7)\n",
            "memory usage: 6.8+ KB\n"
          ],
          "name": "stdout"
        }
      ]
    },
    {
      "cell_type": "code",
      "metadata": {
        "colab": {
          "base_uri": "https://localhost:8080/"
        },
        "id": "89hdJ8WTGCUG",
        "outputId": "58e1e238-ea80-44aa-bdc6-5bc3c3646115"
      },
      "source": [
        "Penha.groupby(by='STATUS').size()"
      ],
      "execution_count": 76,
      "outputs": [
        {
          "output_type": "execute_result",
          "data": {
            "text/plain": [
              "STATUS\n",
              "Aberto        8\n",
              "Em Espera     2\n",
              "Pendente      6\n",
              "Resolvido    91\n",
              "dtype: int64"
            ]
          },
          "metadata": {},
          "execution_count": 76
        }
      ]
    },
    {
      "cell_type": "code",
      "metadata": {
        "colab": {
          "base_uri": "https://localhost:8080/"
        },
        "id": "wlOlUkoRGkgd",
        "outputId": "6291d3aa-e731-4ada-8daa-31c1dae7a251"
      },
      "source": [
        "Penha.groupby(by='TAG').size()"
      ],
      "execution_count": 77,
      "outputs": [
        {
          "output_type": "execute_result",
          "data": {
            "text/plain": [
              "TAG\n",
              "_atraso_live de aula                        1\n",
              "_ausencia_aluno                             2\n",
              "_ausencia_aluno\\n                          10\n",
              "_bilhete unico estudante                   10\n",
              "_cancelamento_documentação_tranferencia    11\n",
              "_canvas_envio de fichamento                 2\n",
              "_carregador_troca                           1\n",
              "_chrome                                     1\n",
              "_chromebook_troca                           1\n",
              "_contato direção                           27\n",
              "_entrada_e_saida                            6\n",
              "_histórico escolar                         12\n",
              "_livro_paradidatico                         1\n",
              "_notificacao_refeicao                       1\n",
              "_notificação_refeição                       1\n",
              "_pedagogico_atividade avaliativa            1\n",
              "_pedagogico_provas                          2\n",
              "_plurall_acesso                             1\n",
              "_portal_boletim                             2\n",
              "_portal_kanban                              1\n",
              "_prova_substitutiva                         1\n",
              "_relatorio de faltas                        1\n",
              "_retorno de chamada                         1\n",
              "_retorno_presencial                         3\n",
              "_transporte escolar                         1\n",
              "cancelamento_pedagogico_reversao            2\n",
              "canvas_roteiro de estudos                   2\n",
              "suporte_envio de documentação               1\n",
              "suporte_tecnologia_chromebook_troca         1\n",
              "dtype: int64"
            ]
          },
          "metadata": {},
          "execution_count": 77
        }
      ]
    },
    {
      "cell_type": "code",
      "metadata": {
        "colab": {
          "base_uri": "https://localhost:8080/"
        },
        "id": "sqORin2FH77w",
        "outputId": "7ce5aca9-7b9b-4a65-d9d4-a68191a24d9d"
      },
      "source": [
        "Penha.groupby(by='TEMPO EM DIAS').size()"
      ],
      "execution_count": 78,
      "outputs": [
        {
          "output_type": "execute_result",
          "data": {
            "text/plain": [
              "TEMPO EM DIAS\n",
              "0      14\n",
              "1      35\n",
              "2      20\n",
              "3       5\n",
              "4       4\n",
              "5       3\n",
              "7       2\n",
              "10      2\n",
              "15      1\n",
              "21      1\n",
              "25      1\n",
              "30      1\n",
              "87      1\n",
              "157     1\n",
              "       16\n",
              "dtype: int64"
            ]
          },
          "metadata": {},
          "execution_count": 78
        }
      ]
    },
    {
      "cell_type": "code",
      "metadata": {
        "id": "-yUIlOV2JRpL"
      },
      "source": [
        ""
      ],
      "execution_count": null,
      "outputs": []
    }
  ]
}