{
  "nbformat": 4,
  "nbformat_minor": 0,
  "metadata": {
    "colab": {
      "name": "Penha_Ago/21",
      "provenance": [],
      "authorship_tag": "ABX9TyNoCj5sIpx9Ory5rkwllNO3",
      "include_colab_link": true
    },
    "kernelspec": {
      "name": "python3",
      "display_name": "Python 3"
    },
    "language_info": {
      "name": "python"
    }
  },
  "cells": [
    {
      "cell_type": "markdown",
      "metadata": {
        "id": "view-in-github",
        "colab_type": "text"
      },
      "source": [
        "<a href=\"https://colab.research.google.com/github/VanessaGellert/analise_planilhas/blob/main/Penha_Ago_21.ipynb\" target=\"_parent\"><img src=\"https://colab.research.google.com/assets/colab-badge.svg\" alt=\"Open In Colab\"/></a>"
      ]
    },
    {
      "cell_type": "code",
      "metadata": {
        "id": "35OEYKtdz_WP"
      },
      "source": [
        "!pip install gspread"
      ],
      "execution_count": null,
      "outputs": []
    },
    {
      "cell_type": "code",
      "metadata": {
        "id": "5n1CE-yu4yDa"
      },
      "source": [
        "from google.colab import auth"
      ],
      "execution_count": 5,
      "outputs": []
    },
    {
      "cell_type": "code",
      "metadata": {
        "id": "0d8i7J6u5FPR"
      },
      "source": [
        "auth.authenticate_user()"
      ],
      "execution_count": 6,
      "outputs": []
    },
    {
      "cell_type": "code",
      "metadata": {
        "id": "AwquvR4R5Hmi"
      },
      "source": [
        "import gspread"
      ],
      "execution_count": 7,
      "outputs": []
    },
    {
      "cell_type": "code",
      "metadata": {
        "id": "uSCdEoWt5QS2"
      },
      "source": [
        "from oauth2client.client import GoogleCredentials"
      ],
      "execution_count": 8,
      "outputs": []
    },
    {
      "cell_type": "code",
      "metadata": {
        "id": "hV7Rl_915XKK"
      },
      "source": [
        "gc = gspread.authorize(GoogleCredentials.get_application_default())"
      ],
      "execution_count": 9,
      "outputs": []
    },
    {
      "cell_type": "code",
      "metadata": {
        "id": "jItBQqOc5g3O"
      },
      "source": [
        "spreadsheet_Penha = gc.open('teste_colab')"
      ],
      "execution_count": 10,
      "outputs": []
    },
    {
      "cell_type": "code",
      "metadata": {
        "id": "2sZEEbya6Gs9"
      },
      "source": [
        "worksheet_Penha = spreadsheet_Penha.sheet1"
      ],
      "execution_count": 11,
      "outputs": []
    },
    {
      "cell_type": "code",
      "metadata": {
        "id": "biJEJiPV6Niu"
      },
      "source": [
        "import pandas as pd"
      ],
      "execution_count": 15,
      "outputs": []
    },
    {
      "cell_type": "code",
      "metadata": {
        "id": "benlB2jQ6T3C"
      },
      "source": [
        "df_Penha = pd.DataFrame(worksheet_Penha.get_all_records())"
      ],
      "execution_count": 16,
      "outputs": []
    },
    {
      "cell_type": "code",
      "metadata": {
        "id": "Y8hWOXXi7bcn"
      },
      "source": [
        "page = spreadsheet_Penha.sheet1"
      ],
      "execution_count": 18,
      "outputs": []
    },
    {
      "cell_type": "code",
      "metadata": {
        "colab": {
          "base_uri": "https://localhost:8080/"
        },
        "id": "94SPZQJi72yC",
        "outputId": "e0051451-5a3d-4e76-b2d4-1d6bd0378ecf"
      },
      "source": [
        "page.row_values(1)"
      ],
      "execution_count": 20,
      "outputs": [
        {
          "output_type": "execute_result",
          "data": {
            "text/plain": [
              "['DATA ENTRADA',\n",
              " 'TICKET',\n",
              " 'ALUNO',\n",
              " 'TAG',\n",
              " 'ASSUNTO',\n",
              " 'STATUS',\n",
              " 'DATA SAÍDA',\n",
              " 'TEMPO EM DIAS']"
            ]
          },
          "metadata": {},
          "execution_count": 20
        }
      ]
    },
    {
      "cell_type": "code",
      "metadata": {
        "id": "e5zXIiGE8Bdf"
      },
      "source": [
        "import pandas as pd"
      ],
      "execution_count": 21,
      "outputs": []
    },
    {
      "cell_type": "code",
      "metadata": {
        "id": "gDL-b1bu8dJS"
      },
      "source": [
        "Penha = pd.DataFrame(page.get_all_records())"
      ],
      "execution_count": 23,
      "outputs": []
    },
    {
      "cell_type": "code",
      "metadata": {
        "colab": {
          "base_uri": "https://localhost:8080/"
        },
        "id": "7LS3_zAcBS0x",
        "outputId": "ecf25247-ad12-4e2b-c5ed-f001f72f8019"
      },
      "source": [
        "Penha.dtypes"
      ],
      "execution_count": 50,
      "outputs": [
        {
          "output_type": "execute_result",
          "data": {
            "text/plain": [
              "DATA ENTRADA     object\n",
              "TICKET            int64\n",
              "ALUNO            object\n",
              "TAG              object\n",
              "ASSUNTO          object\n",
              "STATUS           object\n",
              "DATA SAÍDA       object\n",
              "TEMPO EM DIAS    object\n",
              "dtype: object"
            ]
          },
          "metadata": {},
          "execution_count": 50
        }
      ]
    },
    {
      "cell_type": "code",
      "metadata": {
        "colab": {
          "base_uri": "https://localhost:8080/"
        },
        "id": "0kbRnZZkCmlc",
        "outputId": "0aa61e8c-37be-43fb-9cd8-1dc8af32b5b6"
      },
      "source": [
        "Penha.info()"
      ],
      "execution_count": 44,
      "outputs": [
        {
          "output_type": "stream",
          "text": [
            "<class 'pandas.core.frame.DataFrame'>\n",
            "RangeIndex: 107 entries, 0 to 106\n",
            "Data columns (total 8 columns):\n",
            " #   Column         Non-Null Count  Dtype \n",
            "---  ------         --------------  ----- \n",
            " 0   DATA ENTRADA   107 non-null    object\n",
            " 1   TICKET         107 non-null    int64 \n",
            " 2   ALUNO          107 non-null    object\n",
            " 3   TAG            107 non-null    object\n",
            " 4   ASSUNTO        107 non-null    object\n",
            " 5   STATUS         107 non-null    object\n",
            " 6   DATA SAÍDA     107 non-null    object\n",
            " 7   TEMPO EM DIAS  107 non-null    object\n",
            "dtypes: int64(1), object(7)\n",
            "memory usage: 6.8+ KB\n"
          ],
          "name": "stdout"
        }
      ]
    },
    {
      "cell_type": "code",
      "metadata": {
        "colab": {
          "base_uri": "https://localhost:8080/"
        },
        "id": "89hdJ8WTGCUG",
        "outputId": "fd85e495-6879-40f4-a4a4-44d80421bdf8"
      },
      "source": [
        "Penha.groupby(by='STATUS').size()"
      ],
      "execution_count": 45,
      "outputs": [
        {
          "output_type": "execute_result",
          "data": {
            "text/plain": [
              "STATUS\n",
              "Aberto        8\n",
              "Em Espera     2\n",
              "Pendente      6\n",
              "Resolvido    91\n",
              "dtype: int64"
            ]
          },
          "metadata": {},
          "execution_count": 45
        }
      ]
    },
    {
      "cell_type": "code",
      "metadata": {
        "colab": {
          "base_uri": "https://localhost:8080/"
        },
        "id": "wlOlUkoRGkgd",
        "outputId": "b58ca715-9b88-4b59-bf1e-0720d21224d0"
      },
      "source": [
        "Penha.groupby(by='TAG').size()"
      ],
      "execution_count": 48,
      "outputs": [
        {
          "output_type": "execute_result",
          "data": {
            "text/plain": [
              "TAG\n",
              "Suporte_pedagogico_provas                                         1\n",
              "_cancelamento_documentação_tranferencia                           7\n",
              "_chrome                                                           1\n",
              "_contato direção                                                  1\n",
              "_documentação_histórico escolar                                   8\n",
              "_pedagogico_atividade avaliativa                                  1\n",
              "_secretaria_solicitação_bilhete unico estudante                   1\n",
              "cancelamento__secretaria__documentacao__transferencia_escolar     1\n",
              "cancelamento_pedagogico_reversao                                  2\n",
              "cancelamento_secretraria_documentacao_transferenciaescolar        3\n",
              "pedagogico__notificacao__ausencia_aluno                           8\n",
              "pedagogico__solicitacao__contato_direcao                         18\n",
              "pedagogico_notificacao_ausencia_aluno\\n                           4\n",
              "pedagogico_solicitacao_contato_direcao                            8\n",
              "pedagogico_solicitacao_prova_substitutiva                         1\n",
              "pedagogico_solicitacao_relatoriodefaltas                          1\n",
              "secretaria__notificacao__refeicao                                 1\n",
              "secretaria__solicitacao__bilhete_unico_estudantil                 2\n",
              "secretaria__solicitacao__documentacao__historico_escolar          4\n",
              "secretaria__tecnologia__chromebook__troca                         1\n",
              "secretaria_notificacao_entrada_e_saida                            6\n",
              "secretaria_notificação_referição                                  1\n",
              "secretaria_pedagogico_livro_paradidatico                          1\n",
              "secretaria_solicitacao_bilhete_unico_estudantil                   7\n",
              "secretaria_tecnologia_carregador_troca                            1\n",
              "suporte__pedagogico__atraso_live_de_aula                          1\n",
              "suporte__pedagogico__provas                                       1\n",
              "suporte__pedagogico__retorno presencial                           1\n",
              "suporte__pedagogico__retorno_presencial                           1\n",
              "suporte__tecnologia__canvas__envio_de_fichamento                  2\n",
              "suporte_envio de documentação                                     1\n",
              "suporte_pedagogico_retorno de chamada                             1\n",
              "suporte_pedagogico_retorno_presencial                             1\n",
              "suporte_secretaria_transporte escolar                             1\n",
              "suporte_tecnologia_canvas_roteiro_de_estudos                      2\n",
              "suporte_tecnologia_chromebook_troca                               1\n",
              "suporte_tecnologia_plurall_acesso                                 1\n",
              "suporte_tecnologia_portal_boletim                                 2\n",
              "suporte_tecnologia_portal_kanban                                  1\n",
              "dtype: int64"
            ]
          },
          "metadata": {},
          "execution_count": 48
        }
      ]
    },
    {
      "cell_type": "code",
      "metadata": {
        "colab": {
          "base_uri": "https://localhost:8080/"
        },
        "id": "sqORin2FH77w",
        "outputId": "1f06091f-66dc-49a6-c747-1f31c7375b93"
      },
      "source": [
        "Penha.groupby(by='TEMPO EM DIAS').size()"
      ],
      "execution_count": 57,
      "outputs": [
        {
          "output_type": "execute_result",
          "data": {
            "text/plain": [
              "TEMPO EM DIAS\n",
              "0      14\n",
              "1      35\n",
              "2      20\n",
              "3       5\n",
              "4       4\n",
              "5       3\n",
              "7       2\n",
              "10      2\n",
              "15      1\n",
              "21      1\n",
              "25      1\n",
              "30      1\n",
              "87      1\n",
              "157     1\n",
              "       16\n",
              "dtype: int64"
            ]
          },
          "metadata": {},
          "execution_count": 57
        }
      ]
    },
    {
      "cell_type": "code",
      "metadata": {
        "id": "-yUIlOV2JRpL"
      },
      "source": [
        ""
      ],
      "execution_count": null,
      "outputs": []
    }
  ]
}